{
 "cells": [
  {
   "cell_type": "code",
   "execution_count": null,
   "metadata": {},
   "outputs": [],
   "source": [
    "import os\n",
    "import sqlite3\n",
    "import pandas as pd\n",
    "import requests\n",
    "import plotly.express as px"
   ]
  },
  {
   "cell_type": "markdown",
   "metadata": {},
   "source": [
    "## binance data\n"
   ]
  },
  {
   "cell_type": "code",
   "execution_count": null,
   "metadata": {},
   "outputs": [],
   "source": [
    "# binance constants\n",
    "BINANCE_API_URL = \"https://fapi.binance.com\"\n",
    "BINANCE_ENDPOINT = \"/fapi/v1/klines\"\n",
    "BINANCE_ASSETS = [\"1000BONKUSDT\", \"LINKUSDT\", \"AVAXUSDT\", \"INJUSDT\", \"1000PEPEUSDT\"]\n",
    "BINANCE_START_TIMESTAMP = 1704085200000\n",
    "BINANCE_END_TIMESTAMP = 1706677200000\n",
    "\n",
    "df_binance_prices = pd.DataFrame()\n",
    "for asset in BINANCE_ASSETS:\n",
    "    last_timestamp = BINANCE_START_TIMESTAMP\n",
    "    while last_timestamp < BINANCE_END_TIMESTAMP:\n",
    "        params = {\n",
    "            \"symbol\": asset,\n",
    "            \"interval\": \"5m\",\n",
    "            \"limit\": 1000,\n",
    "            \"startTime\": last_timestamp,\n",
    "        }\n",
    "        response = requests.get(f\"{BINANCE_API_URL}{BINANCE_ENDPOINT}\", params=params)\n",
    "\n",
    "        if response.status_code == 200:\n",
    "            data = response.json()\n",
    "            df = pd.DataFrame(\n",
    "                data,\n",
    "                columns=[\n",
    "                    \"open_time\",\n",
    "                    \"open\",\n",
    "                    \"high\",\n",
    "                    \"low\",\n",
    "                    \"close\",\n",
    "                    \"volume\",\n",
    "                    \"close_time\",\n",
    "                    \"quote_asset_volume\",\n",
    "                    \"number_of_trades\",\n",
    "                    \"taker_buy_base_asset_volume\",\n",
    "                    \"taker_buy_quote_asset_volume\",\n",
    "                    \"ignore\",\n",
    "                ],\n",
    "            )\n",
    "            print(\n",
    "                f\"Successfully fetched {asset} data from {last_timestamp} to {df['close_time'].max()}\"\n",
    "            )\n",
    "            df[\"asset\"] = asset\n",
    "            df_binance_prices = pd.concat([df_binance_prices, df])\n",
    "            last_timestamp = df[\"close_time\"].max()\n",
    "\n",
    "        else:\n",
    "            print(f\"Error fetching data: {response.status_code}\")\n",
    "            print(f\"Error: {response.text}\")"
   ]
  },
  {
   "cell_type": "code",
   "execution_count": null,
   "metadata": {},
   "outputs": [],
   "source": [
    "for asset in BINANCE_ASSETS:\n",
    "    start_time = df_binance_prices[df_binance_prices[\"asset\"] == asset][\n",
    "        \"open_time\"\n",
    "    ].min()\n",
    "    end_time = df_binance_prices[df_binance_prices[\"asset\"] == asset][\"open_time\"].max()\n",
    "\n",
    "    # convert to readable dates\n",
    "    print(\n",
    "        f\"{asset}: {pd.to_datetime(start_time, unit='ms')} - {pd.to_datetime(end_time, unit='ms')}\"\n",
    "    )"
   ]
  },
  {
   "cell_type": "code",
   "execution_count": null,
   "metadata": {},
   "outputs": [],
   "source": [
    "df_binance_prices.to_csv(\"../../data/ml_export_binance_prices.csv\", index=False)"
   ]
  }
 ],
 "metadata": {
  "kernelspec": {
   "display_name": "env",
   "language": "python",
   "name": "python3"
  },
  "language_info": {
   "codemirror_mode": {
    "name": "ipython",
    "version": 3
   },
   "file_extension": ".py",
   "mimetype": "text/x-python",
   "name": "python",
   "nbconvert_exporter": "python",
   "pygments_lexer": "ipython3",
   "version": "3.10.11"
  }
 },
 "nbformat": 4,
 "nbformat_minor": 2
}
