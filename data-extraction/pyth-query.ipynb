{
 "cells": [
  {
   "cell_type": "code",
   "execution_count": null,
   "metadata": {},
   "outputs": [],
   "source": [
    "import os\n",
    "import sqlite3\n",
    "import pandas as pd\n",
    "import requests\n",
    "import plotly.express as px"
   ]
  },
  {
   "cell_type": "markdown",
   "metadata": {},
   "source": [
    "### pyth data\n"
   ]
  },
  {
   "cell_type": "code",
   "execution_count": null,
   "metadata": {},
   "outputs": [],
   "source": [
    "PYTH_API_URL = \"https://benchmarks.pyth.network/v1/\"\n",
    "PYTH_ENDPOINT = \"shims/tradingview/history\"\n",
    "PYTH_ASSETS = [\n",
    "    \"Crypto.BONK/USD\",\n",
    "    \"Crypto.LINK/USD\",\n",
    "    \"Crypto.AVAX/USD\",\n",
    "    \"Crypto.INJ/USD\",\n",
    "    \"Crypto.PEPE/USD\",\n",
    "]\n",
    "PYTH_START_TIMESTAMP = 1704085200\n",
    "PYTH_END_TIMESTAMP = 1706677200\n",
    "\n",
    "df_pyth_prices = pd.DataFrame()\n",
    "for asset in PYTH_ASSETS:\n",
    "    last_timestamp = PYTH_START_TIMESTAMP\n",
    "    while last_timestamp < PYTH_END_TIMESTAMP:\n",
    "        params = {\n",
    "            \"symbol\": asset,\n",
    "            \"resolution\": 5,\n",
    "            \"from\": last_timestamp,\n",
    "            \"to\": last_timestamp + (2000 * 60 * 5),\n",
    "        }\n",
    "        response = requests.get(f\"{PYTH_API_URL}{PYTH_ENDPOINT}\", params=params)\n",
    "\n",
    "        if response.status_code == 200:\n",
    "            data = response.json()\n",
    "            if data[\"s\"] == \"ok\":\n",
    "                data.pop(\"s\")\n",
    "                df = pd.DataFrame.from_dict(\n",
    "                    data,\n",
    "                )\n",
    "                print(\n",
    "                    f\"Successfully fetched {asset} data from {last_timestamp} to {df['t'].max()}\"\n",
    "                )\n",
    "                df[\"asset\"] = asset\n",
    "                df_pyth_prices = pd.concat([df_pyth_prices, df])\n",
    "                last_timestamp = df[\"t\"].max()\n",
    "            else:\n",
    "                print(f\"Error fetching data: {data}\")\n",
    "\n",
    "        else:\n",
    "            print(f\"Error fetching data: {response.status_code}\")\n",
    "            print(f\"Error: {response.text}\")"
   ]
  },
  {
   "cell_type": "code",
   "execution_count": null,
   "metadata": {},
   "outputs": [],
   "source": [
    "for asset in PYTH_ASSETS:\n",
    "    start_time = df_pyth_prices[df_pyth_prices[\"asset\"] == asset][\"t\"].min()\n",
    "    end_time = df_pyth_prices[df_pyth_prices[\"asset\"] == asset][\"t\"].max()\n",
    "\n",
    "    # convert to readable dates\n",
    "    print(\n",
    "        f\"{asset}: {pd.to_datetime(start_time, unit='s')} - {pd.to_datetime(end_time, unit='s')}\"\n",
    "    )"
   ]
  },
  {
   "cell_type": "code",
   "execution_count": null,
   "metadata": {},
   "outputs": [],
   "source": [
    "df_pyth_prices.to_csv(\"../../data/ml_export_pyth_prices.csv\", index=False)"
   ]
  }
 ],
 "metadata": {
  "kernelspec": {
   "display_name": "env",
   "language": "python",
   "name": "python3"
  },
  "language_info": {
   "codemirror_mode": {
    "name": "ipython",
    "version": 3
   },
   "file_extension": ".py",
   "mimetype": "text/x-python",
   "name": "python",
   "nbconvert_exporter": "python",
   "pygments_lexer": "ipython3",
   "version": "3.10.11"
  }
 },
 "nbformat": 4,
 "nbformat_minor": 2
}
